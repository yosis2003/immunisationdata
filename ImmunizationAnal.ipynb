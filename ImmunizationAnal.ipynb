{
 "cells": [
  {
   "cell_type": "code",
   "execution_count": 152,
   "metadata": {},
   "outputs": [
    {
     "name": "stdout",
     "output_type": "stream",
     "text": [
      "SCHOOL_YEAR                                                        2021-2022\n",
      "SCHOOL_CODE                                                           102384\n",
      "SCHOOL_NAME                                                  Primary Charter\n",
      "CITY                                                                   Tracy\n",
      "COUNTY                                                           San Joaquin\n",
      "PUBLIC_PRIVATE                                                        Public\n",
      "PUBLIC_SCHOOL_DISTRICT                                   Tracy Joint Unified\n",
      "ENROLLMENT                                                              71.0\n",
      "REPORTED                                                                   Y\n",
      "CATEGORY                                                         CONDITIONAL\n",
      "COUNT                                                                    NaN\n",
      "PERCENT                                                                  2.0\n",
      "ANNOTATION_CODE                                                          1.0\n",
      "ANNOTATION_COUNT_DESC      Cell suppressed for small number. Number of ch...\n",
      "ANNOTATION_PERCENT_DESC    This value represents less than or equal to 2 ...\n",
      "Name: 700, dtype: object\n"
     ]
    },
    {
     "name": "stderr",
     "output_type": "stream",
     "text": [
      "/tmp/ipykernel_16068/194192647.py:3: DtypeWarning: Columns (6) have mixed types. Specify dtype option on import or set low_memory=False.\n",
      "  immunizations = pd.read_csv('1stgradeimmunizations21-22.csv')\n"
     ]
    }
   ],
   "source": [
    "import pandas as pd\n",
    "\n",
    "immunizations = pd.read_csv('1stgradeimmunizations21-22.csv')\n",
    "\n",
    "print(immunizations.iloc[700])\n",
    "\n"
   ]
  },
  {
   "cell_type": "code",
   "execution_count": 153,
   "metadata": {},
   "outputs": [],
   "source": [
    "\n",
    "# immunizations.SCHOOL_YEAR.unique()\n",
    "# immunizations[\"SCHOOL_YEAR\"].unique()\n",
    "# immunizations[~immunizations[\"SCHOOL_YEAR\"].isin([\"2021-2022\"])]\n",
    "\n",
    "\n",
    "~immunizations[\"SCHOOL_YEAR\"].isin([\"2021-2022\"]).unique()\n",
    "\n",
    "\n",
    "immunizations = immunizations.dropna(subset=['ENROLLMENT', 'PERCENT'])\n"
   ]
  },
  {
   "cell_type": "code",
   "execution_count": 154,
   "metadata": {},
   "outputs": [
    {
     "data": {
      "text/plain": [
       "array([False])"
      ]
     },
     "execution_count": 154,
     "metadata": {},
     "output_type": "execute_result"
    }
   ],
   "source": [
    "bro = immunizations.duplicated()\n",
    "\n",
    "bro.unique()\n",
    "\n",
    "# proves that no duplicates exist\n"
   ]
  },
  {
   "cell_type": "code",
   "execution_count": 155,
   "metadata": {},
   "outputs": [
    {
     "name": "stdout",
     "output_type": "stream",
     "text": [
      "{'CONDITIONAL': 7975, 'DTP': 7820280, 'HEPB': 4669922, 'MMR2': 5739897, 'OTHERS': 328426, 'OVERDUE': 49585, 'PME': 8111, 'POLIO': 6342551, 'UP-TO-DATE': 11729281, 'VARI': 7242700}\n"
     ]
    },
    {
     "name": "stderr",
     "output_type": "stream",
     "text": [
      "/tmp/ipykernel_16068/2191257051.py:12: SettingWithCopyWarning: \n",
      "A value is trying to be set on a copy of a slice from a DataFrame.\n",
      "Try using .loc[row_indexer,col_indexer] = value instead\n",
      "\n",
      "See the caveats in the documentation: https://pandas.pydata.org/pandas-docs/stable/user_guide/indexing.html#returning-a-view-versus-a-copy\n",
      "  filtered_df[\"vaccinatedCalc\"] = filtered_df[\"PERCENT\"] * filtered_df[\"COUNT\"]\n",
      "/tmp/ipykernel_16068/2191257051.py:12: SettingWithCopyWarning: \n",
      "A value is trying to be set on a copy of a slice from a DataFrame.\n",
      "Try using .loc[row_indexer,col_indexer] = value instead\n",
      "\n",
      "See the caveats in the documentation: https://pandas.pydata.org/pandas-docs/stable/user_guide/indexing.html#returning-a-view-versus-a-copy\n",
      "  filtered_df[\"vaccinatedCalc\"] = filtered_df[\"PERCENT\"] * filtered_df[\"COUNT\"]\n",
      "/tmp/ipykernel_16068/2191257051.py:12: SettingWithCopyWarning: \n",
      "A value is trying to be set on a copy of a slice from a DataFrame.\n",
      "Try using .loc[row_indexer,col_indexer] = value instead\n",
      "\n",
      "See the caveats in the documentation: https://pandas.pydata.org/pandas-docs/stable/user_guide/indexing.html#returning-a-view-versus-a-copy\n",
      "  filtered_df[\"vaccinatedCalc\"] = filtered_df[\"PERCENT\"] * filtered_df[\"COUNT\"]\n",
      "/tmp/ipykernel_16068/2191257051.py:12: SettingWithCopyWarning: \n",
      "A value is trying to be set on a copy of a slice from a DataFrame.\n",
      "Try using .loc[row_indexer,col_indexer] = value instead\n",
      "\n",
      "See the caveats in the documentation: https://pandas.pydata.org/pandas-docs/stable/user_guide/indexing.html#returning-a-view-versus-a-copy\n",
      "  filtered_df[\"vaccinatedCalc\"] = filtered_df[\"PERCENT\"] * filtered_df[\"COUNT\"]\n",
      "/tmp/ipykernel_16068/2191257051.py:12: SettingWithCopyWarning: \n",
      "A value is trying to be set on a copy of a slice from a DataFrame.\n",
      "Try using .loc[row_indexer,col_indexer] = value instead\n",
      "\n",
      "See the caveats in the documentation: https://pandas.pydata.org/pandas-docs/stable/user_guide/indexing.html#returning-a-view-versus-a-copy\n",
      "  filtered_df[\"vaccinatedCalc\"] = filtered_df[\"PERCENT\"] * filtered_df[\"COUNT\"]\n",
      "/tmp/ipykernel_16068/2191257051.py:12: SettingWithCopyWarning: \n",
      "A value is trying to be set on a copy of a slice from a DataFrame.\n",
      "Try using .loc[row_indexer,col_indexer] = value instead\n",
      "\n",
      "See the caveats in the documentation: https://pandas.pydata.org/pandas-docs/stable/user_guide/indexing.html#returning-a-view-versus-a-copy\n",
      "  filtered_df[\"vaccinatedCalc\"] = filtered_df[\"PERCENT\"] * filtered_df[\"COUNT\"]\n",
      "/tmp/ipykernel_16068/2191257051.py:12: SettingWithCopyWarning: \n",
      "A value is trying to be set on a copy of a slice from a DataFrame.\n",
      "Try using .loc[row_indexer,col_indexer] = value instead\n",
      "\n",
      "See the caveats in the documentation: https://pandas.pydata.org/pandas-docs/stable/user_guide/indexing.html#returning-a-view-versus-a-copy\n",
      "  filtered_df[\"vaccinatedCalc\"] = filtered_df[\"PERCENT\"] * filtered_df[\"COUNT\"]\n",
      "/tmp/ipykernel_16068/2191257051.py:12: SettingWithCopyWarning: \n",
      "A value is trying to be set on a copy of a slice from a DataFrame.\n",
      "Try using .loc[row_indexer,col_indexer] = value instead\n",
      "\n",
      "See the caveats in the documentation: https://pandas.pydata.org/pandas-docs/stable/user_guide/indexing.html#returning-a-view-versus-a-copy\n",
      "  filtered_df[\"vaccinatedCalc\"] = filtered_df[\"PERCENT\"] * filtered_df[\"COUNT\"]\n",
      "/tmp/ipykernel_16068/2191257051.py:12: SettingWithCopyWarning: \n",
      "A value is trying to be set on a copy of a slice from a DataFrame.\n",
      "Try using .loc[row_indexer,col_indexer] = value instead\n",
      "\n",
      "See the caveats in the documentation: https://pandas.pydata.org/pandas-docs/stable/user_guide/indexing.html#returning-a-view-versus-a-copy\n",
      "  filtered_df[\"vaccinatedCalc\"] = filtered_df[\"PERCENT\"] * filtered_df[\"COUNT\"]\n",
      "/tmp/ipykernel_16068/2191257051.py:12: SettingWithCopyWarning: \n",
      "A value is trying to be set on a copy of a slice from a DataFrame.\n",
      "Try using .loc[row_indexer,col_indexer] = value instead\n",
      "\n",
      "See the caveats in the documentation: https://pandas.pydata.org/pandas-docs/stable/user_guide/indexing.html#returning-a-view-versus-a-copy\n",
      "  filtered_df[\"vaccinatedCalc\"] = filtered_df[\"PERCENT\"] * filtered_df[\"COUNT\"]\n"
     ]
    }
   ],
   "source": [
    "# question C\n",
    "\n",
    "\n",
    "categoriesList = immunizations[\"CATEGORY\"].unique()\n",
    "\n",
    "studentsVaccinated = {}\n",
    "\n",
    "for category in categoriesList:\n",
    "    # Filter the DataFrame for the current category\n",
    "    filtered_df = immunizations[immunizations['CATEGORY'] == category]\n",
    "\n",
    "    filtered_df[\"vaccinatedCalc\"] = filtered_df[\"PERCENT\"] * filtered_df[\"COUNT\"]\n",
    "\n",
    "    studentsVaccinated[category] = int(filtered_df[\"vaccinatedCalc\"].sum())\n",
    "\n",
    "\n",
    "print(studentsVaccinated)\n",
    "\n",
    "    \n",
    "    # # Sum up the \"Count\" for the current category\n",
    "    # category_sum = filtered_df['Count'].sum()"
   ]
  },
  {
   "cell_type": "code",
   "execution_count": 156,
   "metadata": {},
   "outputs": [
    {
     "name": "stderr",
     "output_type": "stream",
     "text": [
      "/tmp/ipykernel_16068/3249964228.py:6: SettingWithCopyWarning: \n",
      "A value is trying to be set on a copy of a slice from a DataFrame.\n",
      "Try using .loc[row_indexer,col_indexer] = value instead\n",
      "\n",
      "See the caveats in the documentation: https://pandas.pydata.org/pandas-docs/stable/user_guide/indexing.html#returning-a-view-versus-a-copy\n",
      "  uptodatedf['PERCENT'] = uptodatedf['PERCENT'] / 100.0\n",
      "/tmp/ipykernel_16068/3249964228.py:13: DeprecationWarning: DataFrameGroupBy.apply operated on the grouping columns. This behavior is deprecated, and in a future version of pandas the grouping columns will be excluded from the operation. Either pass `include_groups=False` to exclude the groupings or explicitly select the grouping columns after groupby to silence this warning.\n",
      "  vaccinatedStudentsPerDistrict = uptodatedf.groupby('PUBLIC_SCHOOL_DISTRICT').apply(lambda district : (district['ENROLLMENT'] * district['PERCENT']).sum().astype(int))\n"
     ]
    },
    {
     "name": "stdout",
     "output_type": "stream",
     "text": [
      "                                    ENROLLMENT  Vaccinated Students  \\\n",
      "PUBLIC_SCHOOL_DISTRICT                                                \n",
      "Abc Unified                               1166                 1132   \n",
      "Ackerman Charter                            59                   57   \n",
      "Acton-Agua Dulce Unified                   540                  269   \n",
      "Adelanto Elementary                        793                  718   \n",
      "Alameda County Office Of Education         343                  315   \n",
      "...                                        ...                  ...   \n",
      "Yolo County Office Of Education             40                   22   \n",
      "Yosemite Unified                            82                   76   \n",
      "Yreka Union Elementary                      97                   95   \n",
      "Yuba City Unified                          811                  791   \n",
      "Yucaipa-Calimesa Joint Unified             681                  663   \n",
      "\n",
      "                                    Percentages  \n",
      "PUBLIC_SCHOOL_DISTRICT                           \n",
      "Abc Unified                            0.970840  \n",
      "Ackerman Charter                       0.966102  \n",
      "Acton-Agua Dulce Unified               0.498148  \n",
      "Adelanto Elementary                    0.905422  \n",
      "Alameda County Office Of Education     0.918367  \n",
      "...                                         ...  \n",
      "Yolo County Office Of Education        0.550000  \n",
      "Yosemite Unified                       0.926829  \n",
      "Yreka Union Elementary                 0.979381  \n",
      "Yuba City Unified                      0.975339  \n",
      "Yucaipa-Calimesa Joint Unified         0.973568  \n",
      "\n",
      "[730 rows x 3 columns]\n"
     ]
    }
   ],
   "source": [
    "#Median the percentage of all schools in a certain district that have UP TO DATE vaxs\n",
    "#Put those averages along with the district names in a dictionary\n",
    "\n",
    "uptodatedf = immunizations[immunizations['CATEGORY'] == 'UP-TO-DATE']\n",
    "\n",
    "uptodatedf['PERCENT'] = uptodatedf['PERCENT'] / 100.0\n",
    "\n",
    "districtsList = immunizations[\"PUBLIC_SCHOOL_DISTRICT\"].unique()\n",
    "\n",
    "districtPerformance = {}\n",
    "\n",
    "enrollment_sums = uptodatedf.groupby('PUBLIC_SCHOOL_DISTRICT')['ENROLLMENT'].sum().astype(int)\n",
    "vaccinatedStudentsPerDistrict = uptodatedf.groupby('PUBLIC_SCHOOL_DISTRICT').apply(lambda district : (district['ENROLLMENT'] * district['PERCENT']).sum().astype(int))\n",
    "\n",
    "\n",
    "\n",
    "districtPerformance = vaccinatedStudentsPerDistrict/enrollment_sums\n",
    "\n",
    "niceInfo = [enrollment_sums, vaccinatedStudentsPerDistrict, districtPerformance]\n",
    "\n",
    "result = pd.concat(niceInfo, axis=1)\n",
    "\n",
    "result.columns.values[1] = \"Vaccinated Students\"\n",
    "result.columns.values[2] = \"Percentages\"\n",
    "\n",
    "print(result)"
   ]
  },
  {
   "cell_type": "code",
   "execution_count": 158,
   "metadata": {},
   "outputs": [
    {
     "data": {
      "text/html": [
       "<div>\n",
       "<style scoped>\n",
       "    .dataframe tbody tr th:only-of-type {\n",
       "        vertical-align: middle;\n",
       "    }\n",
       "\n",
       "    .dataframe tbody tr th {\n",
       "        vertical-align: top;\n",
       "    }\n",
       "\n",
       "    .dataframe thead th {\n",
       "        text-align: right;\n",
       "    }\n",
       "</style>\n",
       "<table border=\"1\" class=\"dataframe\">\n",
       "  <thead>\n",
       "    <tr style=\"text-align: right;\">\n",
       "      <th></th>\n",
       "      <th>ENROLLMENT</th>\n",
       "      <th>Vaccinated Students</th>\n",
       "      <th>Percentages</th>\n",
       "    </tr>\n",
       "    <tr>\n",
       "      <th>PUBLIC_SCHOOL_DISTRICT</th>\n",
       "      <th></th>\n",
       "      <th></th>\n",
       "      <th></th>\n",
       "    </tr>\n",
       "  </thead>\n",
       "  <tbody>\n",
       "    <tr>\n",
       "      <th>Sbe - Kipp Bayview Elementary</th>\n",
       "      <td>39</td>\n",
       "      <td>8</td>\n",
       "      <td>0.205128</td>\n",
       "    </tr>\n",
       "    <tr>\n",
       "      <th>Maricopa Unified</th>\n",
       "      <td>1220</td>\n",
       "      <td>324</td>\n",
       "      <td>0.265574</td>\n",
       "    </tr>\n",
       "    <tr>\n",
       "      <th>Winship-Robbins</th>\n",
       "      <td>208</td>\n",
       "      <td>67</td>\n",
       "      <td>0.322115</td>\n",
       "    </tr>\n",
       "  </tbody>\n",
       "</table>\n",
       "</div>"
      ],
      "text/plain": [
       "                               ENROLLMENT  Vaccinated Students  Percentages\n",
       "PUBLIC_SCHOOL_DISTRICT                                                     \n",
       "Sbe - Kipp Bayview Elementary          39                    8     0.205128\n",
       "Maricopa Unified                     1220                  324     0.265574\n",
       "Winship-Robbins                       208                   67     0.322115"
      ]
     },
     "execution_count": 158,
     "metadata": {},
     "output_type": "execute_result"
    }
   ],
   "source": [
    "result.sort_values('Percentages').head(3)\n",
    "\n",
    "\n",
    "# result.sort_values('Percentages').tail(3)\n",
    "\n"
   ]
  }
 ],
 "metadata": {
  "kernelspec": {
   "display_name": "Python 3",
   "language": "python",
   "name": "python3"
  },
  "language_info": {
   "codemirror_mode": {
    "name": "ipython",
    "version": 3
   },
   "file_extension": ".py",
   "mimetype": "text/x-python",
   "name": "python",
   "nbconvert_exporter": "python",
   "pygments_lexer": "ipython3",
   "version": "3.10.12"
  }
 },
 "nbformat": 4,
 "nbformat_minor": 2
}
