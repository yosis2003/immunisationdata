{
 "cells": [
  {
   "cell_type": "code",
   "execution_count": 18,
   "metadata": {},
   "outputs": [
    {
     "name": "stdout",
     "output_type": "stream",
     "text": [
      "SCHOOL_YEAR                                                        2021-2022\n",
      "SCHOOL_CODE                                                           102384\n",
      "SCHOOL_NAME                                                  Primary Charter\n",
      "CITY                                                                   Tracy\n",
      "COUNTY                                                           San Joaquin\n",
      "PUBLIC_PRIVATE                                                        Public\n",
      "PUBLIC_SCHOOL_DISTRICT                                   Tracy Joint Unified\n",
      "ENROLLMENT                                                              71.0\n",
      "REPORTED                                                                   Y\n",
      "CATEGORY                                                         CONDITIONAL\n",
      "COUNT                                                                    NaN\n",
      "PERCENT                                                                  2.0\n",
      "ANNOTATION_CODE                                                          1.0\n",
      "ANNOTATION_COUNT_DESC      Cell suppressed for small number. Number of ch...\n",
      "ANNOTATION_PERCENT_DESC    This value represents less than or equal to 2 ...\n",
      "Name: 700, dtype: object\n"
     ]
    },
    {
     "name": "stderr",
     "output_type": "stream",
     "text": [
      "/tmp/ipykernel_16068/194192647.py:3: DtypeWarning: Columns (6) have mixed types. Specify dtype option on import or set low_memory=False.\n",
      "  immunizations = pd.read_csv('1stgradeimmunizations21-22.csv')\n"
     ]
    }
   ],
   "source": [
    "import pandas as pd\n",
    "\n",
    "immunizations = pd.read_csv('1stgradeimmunizations21-22.csv')\n",
    "\n",
    "print(immunizations.iloc[700])\n",
    "\n"
   ]
  },
  {
   "cell_type": "code",
   "execution_count": 55,
   "metadata": {},
   "outputs": [
    {
     "data": {
      "text/plain": [
       "array([False])"
      ]
     },
     "execution_count": 55,
     "metadata": {},
     "output_type": "execute_result"
    }
   ],
   "source": [
    "\n",
    "# immunizations.SCHOOL_YEAR.unique()\n",
    "# immunizations[\"SCHOOL_YEAR\"].unique()\n",
    "# immunizations[~immunizations[\"SCHOOL_YEAR\"].isin([\"2021-2022\"])]\n",
    "\n",
    "\n",
    "~immunizations[\"SCHOOL_YEAR\"].isin([\"2021-2022\"]).unique()\n",
    "\n"
   ]
  },
  {
   "cell_type": "code",
   "execution_count": 54,
   "metadata": {},
   "outputs": [
    {
     "data": {
      "text/plain": [
       "array([False])"
      ]
     },
     "execution_count": 54,
     "metadata": {},
     "output_type": "execute_result"
    }
   ],
   "source": [
    "bro = immunizations.duplicated()\n",
    "\n",
    "bro.unique()\n",
    "\n",
    "# proves that no duplicates exist\n"
   ]
  },
  {
   "cell_type": "code",
   "execution_count": 88,
   "metadata": {},
   "outputs": [
    {
     "name": "stdout",
     "output_type": "stream",
     "text": [
      "{'CONDITIONAL': 7975, 'DTP': 7820280, 'HEPB': 4669922, 'MMR2': 5739897, 'OTHERS': 328426, 'OVERDUE': 49585, 'PME': 8111, 'POLIO': 6342551, 'UP-TO-DATE': 11729281, 'VARI': 7242700}\n"
     ]
    },
    {
     "name": "stderr",
     "output_type": "stream",
     "text": [
      "/tmp/ipykernel_16068/1563369817.py:9: SettingWithCopyWarning: \n",
      "A value is trying to be set on a copy of a slice from a DataFrame.\n",
      "Try using .loc[row_indexer,col_indexer] = value instead\n",
      "\n",
      "See the caveats in the documentation: https://pandas.pydata.org/pandas-docs/stable/user_guide/indexing.html#returning-a-view-versus-a-copy\n",
      "  filtered_df[\"vaccinatedCalc\"] = filtered_df[\"PERCENT\"] * filtered_df[\"COUNT\"]\n",
      "/tmp/ipykernel_16068/1563369817.py:9: SettingWithCopyWarning: \n",
      "A value is trying to be set on a copy of a slice from a DataFrame.\n",
      "Try using .loc[row_indexer,col_indexer] = value instead\n",
      "\n",
      "See the caveats in the documentation: https://pandas.pydata.org/pandas-docs/stable/user_guide/indexing.html#returning-a-view-versus-a-copy\n",
      "  filtered_df[\"vaccinatedCalc\"] = filtered_df[\"PERCENT\"] * filtered_df[\"COUNT\"]\n",
      "/tmp/ipykernel_16068/1563369817.py:9: SettingWithCopyWarning: \n",
      "A value is trying to be set on a copy of a slice from a DataFrame.\n",
      "Try using .loc[row_indexer,col_indexer] = value instead\n",
      "\n",
      "See the caveats in the documentation: https://pandas.pydata.org/pandas-docs/stable/user_guide/indexing.html#returning-a-view-versus-a-copy\n",
      "  filtered_df[\"vaccinatedCalc\"] = filtered_df[\"PERCENT\"] * filtered_df[\"COUNT\"]\n",
      "/tmp/ipykernel_16068/1563369817.py:9: SettingWithCopyWarning: \n",
      "A value is trying to be set on a copy of a slice from a DataFrame.\n",
      "Try using .loc[row_indexer,col_indexer] = value instead\n",
      "\n",
      "See the caveats in the documentation: https://pandas.pydata.org/pandas-docs/stable/user_guide/indexing.html#returning-a-view-versus-a-copy\n",
      "  filtered_df[\"vaccinatedCalc\"] = filtered_df[\"PERCENT\"] * filtered_df[\"COUNT\"]\n",
      "/tmp/ipykernel_16068/1563369817.py:9: SettingWithCopyWarning: \n",
      "A value is trying to be set on a copy of a slice from a DataFrame.\n",
      "Try using .loc[row_indexer,col_indexer] = value instead\n",
      "\n",
      "See the caveats in the documentation: https://pandas.pydata.org/pandas-docs/stable/user_guide/indexing.html#returning-a-view-versus-a-copy\n",
      "  filtered_df[\"vaccinatedCalc\"] = filtered_df[\"PERCENT\"] * filtered_df[\"COUNT\"]\n",
      "/tmp/ipykernel_16068/1563369817.py:9: SettingWithCopyWarning: \n",
      "A value is trying to be set on a copy of a slice from a DataFrame.\n",
      "Try using .loc[row_indexer,col_indexer] = value instead\n",
      "\n",
      "See the caveats in the documentation: https://pandas.pydata.org/pandas-docs/stable/user_guide/indexing.html#returning-a-view-versus-a-copy\n",
      "  filtered_df[\"vaccinatedCalc\"] = filtered_df[\"PERCENT\"] * filtered_df[\"COUNT\"]\n",
      "/tmp/ipykernel_16068/1563369817.py:9: SettingWithCopyWarning: \n",
      "A value is trying to be set on a copy of a slice from a DataFrame.\n",
      "Try using .loc[row_indexer,col_indexer] = value instead\n",
      "\n",
      "See the caveats in the documentation: https://pandas.pydata.org/pandas-docs/stable/user_guide/indexing.html#returning-a-view-versus-a-copy\n",
      "  filtered_df[\"vaccinatedCalc\"] = filtered_df[\"PERCENT\"] * filtered_df[\"COUNT\"]\n",
      "/tmp/ipykernel_16068/1563369817.py:9: SettingWithCopyWarning: \n",
      "A value is trying to be set on a copy of a slice from a DataFrame.\n",
      "Try using .loc[row_indexer,col_indexer] = value instead\n",
      "\n",
      "See the caveats in the documentation: https://pandas.pydata.org/pandas-docs/stable/user_guide/indexing.html#returning-a-view-versus-a-copy\n",
      "  filtered_df[\"vaccinatedCalc\"] = filtered_df[\"PERCENT\"] * filtered_df[\"COUNT\"]\n",
      "/tmp/ipykernel_16068/1563369817.py:9: SettingWithCopyWarning: \n",
      "A value is trying to be set on a copy of a slice from a DataFrame.\n",
      "Try using .loc[row_indexer,col_indexer] = value instead\n",
      "\n",
      "See the caveats in the documentation: https://pandas.pydata.org/pandas-docs/stable/user_guide/indexing.html#returning-a-view-versus-a-copy\n",
      "  filtered_df[\"vaccinatedCalc\"] = filtered_df[\"PERCENT\"] * filtered_df[\"COUNT\"]\n",
      "/tmp/ipykernel_16068/1563369817.py:9: SettingWithCopyWarning: \n",
      "A value is trying to be set on a copy of a slice from a DataFrame.\n",
      "Try using .loc[row_indexer,col_indexer] = value instead\n",
      "\n",
      "See the caveats in the documentation: https://pandas.pydata.org/pandas-docs/stable/user_guide/indexing.html#returning-a-view-versus-a-copy\n",
      "  filtered_df[\"vaccinatedCalc\"] = filtered_df[\"PERCENT\"] * filtered_df[\"COUNT\"]\n"
     ]
    }
   ],
   "source": [
    "categoriesList = immunizations[\"CATEGORY\"].unique()\n",
    "\n",
    "studentsVaccinated = {}\n",
    "\n",
    "for category in categoriesList:\n",
    "    # Filter the DataFrame for the current category\n",
    "    filtered_df = immunizations[immunizations['CATEGORY'] == category]\n",
    "\n",
    "    filtered_df[\"vaccinatedCalc\"] = filtered_df[\"PERCENT\"] * filtered_df[\"COUNT\"]\n",
    "\n",
    "    studentsVaccinated[category] = int(filtered_df[\"vaccinatedCalc\"].sum())\n",
    "\n",
    "\n",
    "print(studentsVaccinated)\n",
    "\n",
    "    \n",
    "    # # Sum up the \"Count\" for the current category\n",
    "    # category_sum = filtered_df['Count'].sum()"
   ]
  }
 ],
 "metadata": {
  "kernelspec": {
   "display_name": "Python 3",
   "language": "python",
   "name": "python3"
  },
  "language_info": {
   "codemirror_mode": {
    "name": "ipython",
    "version": 3
   },
   "file_extension": ".py",
   "mimetype": "text/x-python",
   "name": "python",
   "nbconvert_exporter": "python",
   "pygments_lexer": "ipython3",
   "version": "3.10.12"
  }
 },
 "nbformat": 4,
 "nbformat_minor": 2
}
